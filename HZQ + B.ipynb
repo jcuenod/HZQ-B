{
 "cells": [
  {
   "cell_type": "code",
   "execution_count": 1,
   "metadata": {
    "collapsed": false
   },
   "outputs": [
    {
     "name": "stderr",
     "output_type": "stream",
     "text": [
      "  0.00s This is LAF-Fabric 4.8.2\n",
      "API reference: http://laf-fabric.readthedocs.org/en/latest/texts/API-reference.html\n",
      "Feature doc: https://shebanq.ancient-data.org/static/docs/featuredoc/texts/welcome.html\n",
      "\n"
     ]
    }
   ],
   "source": [
    "import sys, collections, re\n",
    "\n",
    "# from IPython.display import display\n",
    "from IPython.core.display import HTML\n",
    "\n",
    "from laf.fabric import LafFabric\n",
    "from etcbc.preprocess import prepare\n",
    "fabric = LafFabric()"
   ]
  },
  {
   "cell_type": "code",
   "execution_count": 2,
   "metadata": {
    "collapsed": false,
    "scrolled": true
   },
   "outputs": [
    {
     "name": "stderr",
     "output_type": "stream",
     "text": [
      "  0.00s LOADING API: please wait ... \n",
      "  0.00s DETAIL: COMPILING m: etcbc4b: UP TO DATE\n",
      "  0.00s USING main: etcbc4b DATA COMPILED AT: 2015-11-02T15-08-56\n",
      "  0.00s DETAIL: COMPILING a: lexicon: UP TO DATE\n",
      "  0.00s USING annox: lexicon DATA COMPILED AT: 2016-07-08T14-32-54\n",
      "  0.01s DETAIL: load main: G.node_anchor_min\n",
      "  0.06s DETAIL: load main: G.node_anchor_max\n",
      "  0.11s DETAIL: load main: G.node_sort\n",
      "  0.18s DETAIL: load main: G.node_sort_inv\n",
      "  0.61s DETAIL: load main: G.edges_from\n",
      "  0.69s DETAIL: load main: G.edges_to\n",
      "  0.77s DETAIL: load main: F.etcbc4_db_otype [node] \n",
      "  1.34s DETAIL: load main: F.etcbc4_ft_g_word [node] \n",
      "  1.58s DETAIL: load main: F.etcbc4_ft_language [node] \n",
      "  1.77s DETAIL: load main: F.etcbc4_ft_lex_utf8 [node] \n",
      "  2.00s DETAIL: load main: F.etcbc4_ft_sp [node] \n",
      "  2.16s DETAIL: load main: F.etcbc4_ft_vs [node] \n",
      "  2.31s DETAIL: load main: F.etcbc4_sft_chapter [node] \n",
      "  2.32s DETAIL: load main: F.etcbc4_sft_verse [node] \n",
      "  2.32s DETAIL: load main: F.etcbc4_ft_mother [e] \n",
      "  2.39s DETAIL: load main: C.etcbc4_ft_mother -> \n",
      "  2.52s DETAIL: load main: C.etcbc4_ft_mother <- \n",
      "  2.62s LOGFILE=/home/jcuenod/Programming/laf-fabric-output/etcbc4b/workshop/__log__workshop.txt\n",
      "  2.62s INFO: LOADING PREPARED data: please wait ... \n",
      "  2.62s prep prep: G.node_sort\n",
      "  2.68s prep prep: G.node_sort_inv\n",
      "  3.05s prep prep: L.node_up\n",
      "  5.53s prep prep: L.node_down\n",
      "    10s prep prep: V.verses\n",
      "    10s prep prep: V.books_la\n",
      "    10s ETCBC reference: http://laf-fabric.readthedocs.org/en/latest/texts/ETCBC-reference.html\n",
      "    13s INFO: LOADED PREPARED data\n",
      "    13s INFO: DATA LOADED FROM SOURCE etcbc4b AND ANNOX lexicon FOR TASK workshop AT 2016-09-18T21-00-19\n"
     ]
    }
   ],
   "source": [
    "source='etcbc'\n",
    "version='4b'\n",
    "\n",
    "API=fabric.load(source+version, 'lexicon', 'workshop', {\n",
    "    \"xmlids\": {\"node\": False, \"edge\": False},\n",
    "    \"features\": ('''\n",
    "        sp vs\n",
    "        otype\n",
    "        g_word lex_utf8\n",
    "        sp language\n",
    "        chapter verse\n",
    "    ''','mother'),\n",
    "    \"prepare\": prepare,\n",
    "    \"primary\": False,\n",
    "}, verbose='DETAIL')\n",
    "exec(fabric.localnames.format(var='fabric'))"
   ]
  },
  {
   "cell_type": "code",
   "execution_count": 11,
   "metadata": {
    "collapsed": false
   },
   "outputs": [
    {
     "data": {
      "text/html": [
       "\n",
       "<style>\n",
       "td {\n",
       "    padding: 10px;\n",
       "}\n",
       "td:nth-child(2) {\n",
       "    font-size: 150%;\n",
       "    font-family: \"Ezra SIL\";\n",
       "    line-height: 180%;\n",
       "}\n",
       "</style>\n",
       "<table width=100%><tr><td>Proverbia 4:13</td><td>הַחֲזֵ֣ק בַּמּוּסָ֣ר </td></tr><tr><td>Samuel_II 1:11</td><td>וַיַּחֲזֵ֥ק דָּוִ֛ד ֯ב֯בגדו </td></tr><tr><td>Iob 2:3</td><td>וְעֹדֶ֨נּוּ֙ מַחֲזִ֣יק בְּתֻמָּתֹ֔ו </td></tr><tr><td>Jesaia 27:5</td><td>אֹ֚ו יַחֲזֵ֣ק בְּמָעוּזִּ֔י </td></tr><tr><td>Reges_I 1:50</td><td>וַֽיַּחֲזֵ֖ק בְּקַרְנֹ֥ות הַמִּזְבֵּֽחַ׃\n",
       "</td></tr><tr><td>Reges_II 2:12</td><td>וַֽיַּחֲזֵק֙ בִּבְגָדָ֔יו </td></tr><tr><td>Daniel 11:1</td><td>וַאֲנִי֙ בִּשְׁנַ֣ת אַחַ֔ת לְדָרְיָ֖וֶשׁ הַמָּדִ֑י עָמְדִ֛י לְמַחֲזִ֥יק וּלְמָעֹ֖וז לֹֽו׃\n",
       "</td></tr><tr><td>Jeremia 50:33</td><td>וְכָל־שֹֽׁבֵיהֶם֙ הֶחֱזִ֣יקוּ בָ֔ם </td></tr><tr><td>Judices 7:20</td><td>וַיַּחֲזִ֤יקוּ בְיַד־שְׂמאֹולָם֙ בַּלַּפִּדִ֔ים </td></tr><tr><td>Nehemia 4:15</td><td>וְחֶצְיָ֗ם מַחֲזִיקִים֙ בָּֽרְמָחִ֔ים </td></tr><tr><td>Chronica_II 7:22</td><td>וַֽיַּחֲזִ֨יקוּ֙ בֵּאלֹהִ֣ים אֲחֵרִ֔ים </td></tr><tr><td>Proverbia 26:17</td><td>מַחֲזִ֥יק בְּאָזְנֵי־כָ֑לֶב </td></tr><tr><td>Jesaia 4:1</td><td>וְהֶחֱזִיקוּ֩ שֶׁ֨בַע נָשִׁ֜ים בְּאִ֣ישׁ אֶחָ֗ד בַּיֹּ֤ום הַהוּא֙ </td></tr><tr><td>Iob 2:9</td><td>עֹדְךָ֖ מַחֲזִ֣יק בְּתֻמָּתֶ֑ךָ </td></tr><tr><td>Jeremia 8:5</td><td>הֶחֱזִ֨יקוּ֙ בַּתַּרְמִ֔ית </td></tr><tr><td>Genesis 21:18</td><td>וְהַחֲזִ֥יקִי אֶת־יָדֵ֖ךְ בֹּ֑ו </td></tr><tr><td>Jesaia 56:2</td><td>יַחֲזִ֣יק בָּ֑הּ </td></tr><tr><td>Reges_I 9:9</td><td>וַֽיַּחֲזִ֨קוּ֙ בֵּאלֹהִ֣ים אֲחֵרִ֔ים </td></tr><tr><td>Samuel_II 13:11</td><td>וַיַּֽחֲזֶק־בָּהּ֙ </td></tr><tr><td>Daniel 11:6</td><td>וְתִנָּתֵ֨ן הִ֤יא וּמְבִיאֶ֨יהָ֙ וְהַיֹּ֣לְדָ֔הּ וּמַחֲזִקָ֖הּ בָּעִתִּֽים׃\n",
       "</td></tr><tr><td>Jeremia 31:32</td><td>בְּיֹום֙ הֶחֱזִיקִ֣י בְיָדָ֔ם </td></tr><tr><td>Exodus 9:2</td><td>וְעֹודְךָ֖ מַחֲזִ֥יק בָּֽם׃\n",
       "</td></tr><tr><td>Reges_II 15:19</td><td>לְהַחֲזִ֥יק הַמַּמְלָכָ֖ה בְּיָדֹֽו׃\n",
       "</td></tr><tr><td>Reges_I 2:28</td><td>וַֽיַּחֲזֵ֖ק בְּקַרְנֹ֥ות הַמִּזְבֵּֽחַ׃\n",
       "</td></tr><tr><td>Genesis 19:16</td><td>וַיַּחֲזִ֨קוּ הָאֲנָשִׁ֜ים בְּיָדֹ֣ו וּבְיַד־אִשְׁתֹּ֗ו וּבְיַד֙ שְׁתֵּ֣י בְנֹתָ֔יו בְּחֶמְלַ֥ת יְהוָ֖ה עָלָ֑יו </td></tr><tr><td>Jesaia 64:6</td><td>לְהַחֲזִ֣יק בָּ֑ךְ </td></tr><tr><td>Leviticus 25:35</td><td>וְהֶֽחֱזַ֣קְתָּ בֹּ֔ו גֵּ֧ר וְתֹושָׁ֛ב </td></tr><tr><td>Proverbia 3:18</td><td>לַמַּחֲזִיקִ֣ים בָּ֑הּ </td></tr><tr><td>Samuel_I 15:27</td><td>וַיַּחֲזֵ֥ק בִּכְנַף־מְעִילֹ֖ו </td></tr><tr><td>Jesaia 56:4</td><td>וּמַחֲזִיקִ֖ים בִּבְרִיתִֽי׃\n",
       "</td></tr><tr><td>Jesaia 42:6</td><td>וְאַחְזֵ֣ק בְּיָדֶ֑ךָ </td></tr><tr><td>Jesaia 45:1</td><td>אֲשֶׁר־הֶחֱזַ֣קְתִּי בִֽימִינֹ֗ו </td></tr><tr><td>Iob 8:15</td><td>יַחֲזִ֥יק בֹּ֝֗ו </td></tr><tr><td>Jesaia 56:6</td><td>וּמַחֲזִיקִ֖ים בִּבְרִיתִֽי׃\n",
       "</td></tr><tr><td>Ezechiel 27:27</td><td>הֹונֵךְ֙ וְעִזְבֹונַ֔יִךְ מַעֲרָבֵ֕ךְ מַלָּחַ֖יִךְ וְחֹבְלָ֑יִךְ מַחֲזִיקֵ֣י בִדְקֵ֣ך וְֽעֹרְבֵ֣י מַ֠עֲרָבֵךְ וְכָל־אַנְשֵׁ֨י מִלְחַמְתֵּ֜ךְ יִפְּלוּ֙ בְּלֵ֣ב יַמִּ֔ים בְּיֹ֖ום מַפַּלְתֵּֽךְ׃\n",
       "</td></tr><tr><td>Iob 8:20</td><td>וְלֹֽא־יַ֝חֲזִ֗יק בְּיַד־מְרֵעִֽים׃\n",
       "</td></tr><tr><td>Judices 16:26</td><td>הַמַּחֲזִ֣יק בְּיָדֹו֮ </td></tr><tr><td>Samuel_II 3:29</td><td>וּמַחֲזִ֥יק בַּפֶּ֛לֶךְ </td></tr><tr><td>Judices 7:8</td><td>וּבִשְׁלֹשׁ־מֵאֹ֥ות הָאִ֖ישׁ הֶֽחֱזִ֑יק </td></tr><tr><td>Judices 19:25</td><td>וַיַּחֲזֵ֤ק הָאִישׁ֙ בְּפִ֣ילַגְשֹׁ֔ו </td></tr><tr><td>Sacharia 8:23</td><td>וְֽהֶחֱזִ֡יקוּ בִּכְנַף֩ אִ֨ישׁ יְהוּדִ֜י </td></tr><tr><td>Proverbia 7:13</td><td>וְהֶחֱזִ֣יקָה בֹּ֖ו </td></tr><tr><td>Exodus 4:4</td><td>וַיַּ֣חֲזֶק בֹּ֔ו </td></tr><tr><td>Reges_II 4:27</td><td>וַֽתַּחֲזֵ֖ק בְּרַגְלָ֑יו </td></tr><tr><td>Iob 27:6</td><td>בְּצִדְקָתִ֣י הֶ֭חֱזַקְתִּי </td></tr><tr><td>Nehemia 5:16</td><td>וְ֠גַם בִּמְלֶ֜אכֶת הַחֹומָ֤ה הַזֹּאת֙ הֶחֱזַ֔קְתִּי </td></tr><tr><td>Chronica_II 28:15</td><td>וַיַּחֲזִ֣יקוּ בַשִּׁבְיָ֗ה </td></tr><tr><td>Daniel 11:21</td><td>וְהֶחֱזִ֥יק מַלְכ֖וּת בַּחֲלַקְלַקֹּֽות׃\n",
       "</td></tr><tr><td>Deuteronomium 22:25</td><td>וְהֶחֱזִֽיק־בָּ֥הּ הָאִ֖ישׁ </td></tr><tr><td>Jesaia 51:18</td><td>מַחֲזִיק֙ בְּיָדָ֔הּ </td></tr><tr><td>Judices 19:29</td><td>וַיַּחֲזֵ֣ק בְּפִֽילַגְשֹׁ֔ו </td></tr><tr><td>Deuteronomium 25:11</td><td>וְהֶחֱזִ֖יקָה בִּמְבֻשָֽׁיו׃\n",
       "</td></tr><tr><td>Samuel_I 17:35</td><td>וְהֶחֱזַ֨קְתִּי֙ בִּזְקָנֹ֔ו </td></tr><tr><td>Reges_II 4:8</td><td>וַתַּחֲזֶק־בֹּ֖ו </td></tr></table>"
      ],
      "text/plain": [
       "<IPython.core.display.HTML object>"
      ]
     },
     "execution_count": 11,
     "metadata": {},
     "output_type": "execute_result"
    }
   ],
   "source": [
    "b_prep = set()\n",
    "hzq = []\n",
    "hzq_hiph = set()\n",
    "\n",
    "for n in NN():\n",
    "    if F.otype.v(n) == 'word':\n",
    "        if F.lex_utf8.v(n) == 'ב':\n",
    "            b_prep.add(L.u('clause', n))\n",
    "        if F.lex_utf8.v(n) == 'חזק[' and F.vs.v(n) == 'hif':\n",
    "            hzq_hiph.add(L.u('clause', n))\n",
    "    \n",
    "result = b_prep.intersection(hzq_hiph)\n",
    "\n",
    "data = []\n",
    "for n in result:\n",
    "    book = F.book.v(L.u(\"book\", n))\n",
    "    chapter = F.chapter.v(L.u(\"chapter\", n))\n",
    "    verse = F.verse.v(L.u(\"verse\", n))\n",
    "    ref = book + \" \" + chapter + \":\" + verse\n",
    "    \n",
    "    to_p = ''.join('{}{}'.format(F.g_word_utf8.v(w), F.trailer_utf8.v(w)) for w in L.d(\"word\", n))\n",
    "    \n",
    "    data.append({\"reference\": ref, \"clause\": to_p})\n",
    "\n",
    "\n",
    "def listToHtml(data):\n",
    "    html = [\"<table width=100%>\"]\n",
    "    for key, value in enumerate(data):\n",
    "        html.append(\"<tr>\")\n",
    "        html.append(\"<td>{0}</td>\".format(value[\"reference\"]))\n",
    "        html.append(\"<td>{0}</td>\".format(value[\"clause\"]))\n",
    "        html.append(\"</tr>\")\n",
    "    html.append(\"</table>\")\n",
    "    return ''.join(html)\n",
    "\n",
    "HTML(\"\"\"\n",
    "<style>\n",
    "td {\n",
    "    padding: 10px;\n",
    "}\n",
    "td:nth-child(2) {\n",
    "    font-size: 150%;\n",
    "    font-family: \"Ezra SIL\";\n",
    "    line-height: 180%;\n",
    "}\n",
    "</style>\n",
    "\"\"\" + listToHtml(data))"
   ]
  },
  {
   "cell_type": "code",
   "execution_count": null,
   "metadata": {
    "collapsed": true
   },
   "outputs": [],
   "source": []
  }
 ],
 "metadata": {
  "anaconda-cloud": {},
  "kernelspec": {
   "display_name": "Python [Root]",
   "language": "python",
   "name": "Python [Root]"
  },
  "language_info": {
   "codemirror_mode": {
    "name": "ipython",
    "version": 3
   },
   "file_extension": ".py",
   "mimetype": "text/x-python",
   "name": "python",
   "nbconvert_exporter": "python",
   "pygments_lexer": "ipython3",
   "version": "3.5.2"
  }
 },
 "nbformat": 4,
 "nbformat_minor": 0
}
